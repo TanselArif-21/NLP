{
 "cells": [
  {
   "cell_type": "code",
   "execution_count": 43,
   "metadata": {},
   "outputs": [],
   "source": [
    "# Import the main libraries\n",
    "import numpy as np\n",
    "import pandas as pd\n",
    "import os\n",
    "import sys\n",
    "import matplotlib.pyplot as plt\n",
    "\n",
    "# Import the gensim libraries\n",
    "import gensim\n",
    "from gensim.models import word2vec,KeyedVectors\n",
    "\n",
    "from sklearn.manifold import TSNE\n",
    "\n",
    "# Import logging to control the log information\n",
    "import logging"
   ]
  },
  {
   "cell_type": "code",
   "execution_count": null,
   "metadata": {},
   "outputs": [],
   "source": [
    "# Set the logging format\n",
    "logging.basicConfig(format='%(asctime)s : %(levelname)s : %(message)s', level=logging.INFO)"
   ]
  },
  {
   "cell_type": "code",
   "execution_count": 2,
   "metadata": {},
   "outputs": [],
   "source": [
    "# Set the global variables\n",
    "current_dir = sys.path[0]\n",
    "parent_dir = '{}'.format(os.sep).join(current_dir.split(os.sep)[:-1])\n",
    "data_dir = os.path.join(parent_dir,'Data')\n",
    "\n",
    "# Set the file path\n",
    "text_dir = os.path.join(data_dir,'text8.txt')\n",
    "\n",
    "# Set the model path\n",
    "text_model_dir = os.path.join(data_dir,'text8.model')\n",
    "\n",
    "# Set the key relationships path\n",
    "text_sentences_dir = os.path.join(data_dir,'text.model.bin')"
   ]
  },
  {
   "cell_type": "code",
   "execution_count": 4,
   "metadata": {},
   "outputs": [],
   "source": [
    "if not os.path.isfile(text_sentences_dir):\n",
    "    sentences = word2vec.Text8Corpus(text_dir)\n",
    "    model = word2vec.Word2Vec(sentences, size=200)\n",
    "else:\n",
    "    model = KeyedVectors.load_word2vec_format(os.path.join(data_dir,'text.model.bin'), binary=True)"
   ]
  },
  {
   "cell_type": "code",
   "execution_count": 5,
   "metadata": {},
   "outputs": [
    {
     "name": "stderr",
     "output_type": "stream",
     "text": [
      "c:\\users\\tanse\\documents\\mystuff\\temp\\tempnlp\\nlp\\word2vec\\venv\\lib\\site-packages\\ipykernel_launcher.py:1: DeprecationWarning: Call to deprecated `most_similar` (Method will be removed in 4.0.0, use self.wv.most_similar() instead).\n",
      "  \"\"\"Entry point for launching an IPython kernel.\n"
     ]
    },
    {
     "data": {
      "text/plain": [
       "[('queen', 0.6395106911659241)]"
      ]
     },
     "execution_count": 5,
     "metadata": {},
     "output_type": "execute_result"
    }
   ],
   "source": [
    "model.most_similar(positive=['woman', 'king'], negative=['man'], topn=1)"
   ]
  },
  {
   "cell_type": "code",
   "execution_count": 6,
   "metadata": {},
   "outputs": [
    {
     "name": "stderr",
     "output_type": "stream",
     "text": [
      "c:\\users\\tanse\\documents\\mystuff\\temp\\tempnlp\\nlp\\word2vec\\venv\\lib\\site-packages\\ipykernel_launcher.py:1: DeprecationWarning: Call to deprecated `most_similar` (Method will be removed in 4.0.0, use self.wv.most_similar() instead).\n",
      "  \"\"\"Entry point for launching an IPython kernel.\n"
     ]
    },
    {
     "data": {
      "text/plain": [
       "[('queen', 0.6395106911659241), ('throne', 0.550408124923706)]"
      ]
     },
     "execution_count": 6,
     "metadata": {},
     "output_type": "execute_result"
    }
   ],
   "source": [
    "model.most_similar(positive=['woman', 'king'], negative=['man'], topn=2) "
   ]
  },
  {
   "cell_type": "code",
   "execution_count": 7,
   "metadata": {},
   "outputs": [
    {
     "name": "stderr",
     "output_type": "stream",
     "text": [
      "c:\\users\\tanse\\documents\\mystuff\\temp\\tempnlp\\nlp\\word2vec\\venv\\lib\\site-packages\\ipykernel_launcher.py:1: DeprecationWarning: Call to deprecated `most_similar` (Method will be removed in 4.0.0, use self.wv.most_similar() instead).\n",
      "  \"\"\"Entry point for launching an IPython kernel.\n"
     ]
    },
    {
     "data": {
      "text/plain": [
       "[('woman', 0.6885683536529541),\n",
       " ('girl', 0.5818527340888977),\n",
       " ('creature', 0.5624756813049316),\n",
       " ('boy', 0.5352991819381714),\n",
       " ('person', 0.5188018679618835),\n",
       " ('men', 0.4907006025314331),\n",
       " ('beast', 0.4860415458679199),\n",
       " ('stranger', 0.4826732873916626),\n",
       " ('evil', 0.4817325472831726),\n",
       " ('god', 0.47937360405921936)]"
      ]
     },
     "execution_count": 7,
     "metadata": {},
     "output_type": "execute_result"
    }
   ],
   "source": [
    "model.most_similar(['man'])"
   ]
  },
  {
   "cell_type": "code",
   "execution_count": 8,
   "metadata": {},
   "outputs": [],
   "source": [
    "model.save(os.path.join(data_dir,'text8.model'))"
   ]
  },
  {
   "cell_type": "code",
   "execution_count": 9,
   "metadata": {},
   "outputs": [],
   "source": [
    "model.wv.save_word2vec_format(os.path.join(data_dir,'text.model.bin'), binary=True)"
   ]
  },
  {
   "cell_type": "code",
   "execution_count": 30,
   "metadata": {},
   "outputs": [],
   "source": [
    "def cosine_distance (model, word,target_list , num) :\n",
    "    cosine_dict ={}\n",
    "    word_list = []\n",
    "    a = model[word]\n",
    "    for item in target_list :\n",
    "        if item != word :\n",
    "            b = model [item]\n",
    "            cos_sim = np.dot(a, b)/(np.linalg.norm(a)*np.linalg.norm(b))\n",
    "            cosine_dict[item] = cos_sim\n",
    "    dist_sort=sorted(cosine_dict.items(), key=lambda dist: dist[1],reverse = True) ## in Descedning order \n",
    "    for item in dist_sort:\n",
    "        word_list.append((item[0], item[1]))\n",
    "    return word_list[0:num]"
   ]
  },
  {
   "cell_type": "code",
   "execution_count": 31,
   "metadata": {},
   "outputs": [
    {
     "name": "stderr",
     "output_type": "stream",
     "text": [
      "c:\\users\\tanse\\documents\\mystuff\\temp\\tempnlp\\nlp\\word2vec\\venv\\lib\\site-packages\\ipykernel_launcher.py:4: DeprecationWarning: Call to deprecated `__getitem__` (Method will be removed in 4.0.0, use self.wv.__getitem__() instead).\n",
      "  after removing the cwd from sys.path.\n",
      "c:\\users\\tanse\\documents\\mystuff\\temp\\tempnlp\\nlp\\word2vec\\venv\\lib\\site-packages\\ipykernel_launcher.py:7: DeprecationWarning: Call to deprecated `__getitem__` (Method will be removed in 4.0.0, use self.wv.__getitem__() instead).\n",
      "  import sys\n"
     ]
    },
    {
     "data": {
      "text/plain": [
       "[('big', 0.17652054), ('queen', 0.15925497), ('small', -0.0073542325)]"
      ]
     },
     "execution_count": 31,
     "metadata": {},
     "output_type": "execute_result"
    }
   ],
   "source": [
    "word_list = ['big','small','queen']\n",
    "## Show the most similar Mercedes-Benz SLK-Class by cosine distance \n",
    "cosine_distance (model,'yes',word_list,5)"
   ]
  },
  {
   "cell_type": "code",
   "execution_count": 51,
   "metadata": {},
   "outputs": [],
   "source": [
    "def display_closestwords_tsnescatterplot(model, word, size):\n",
    "    \n",
    "    arr = np.empty((0,size), dtype='f')\n",
    "    word_labels = [word]\n",
    "\n",
    "    close_words = model.similar_by_word(word)\n",
    "\n",
    "    arr = np.append(arr, np.array([model[word]]), axis=0)\n",
    "    for wrd_score in close_words:\n",
    "        wrd_vector = model[wrd_score[0]]\n",
    "        word_labels.append(wrd_score[0])\n",
    "        arr = np.append(arr, np.array([wrd_vector]), axis=0)\n",
    "        \n",
    "    tsne = TSNE(n_components=2, random_state=0)\n",
    "    np.set_printoptions(suppress=True)\n",
    "    Y = tsne.fit_transform(arr)\n",
    "\n",
    "    x_coords = Y[:, 0]\n",
    "    y_coords = Y[:, 1]\n",
    "    plt.scatter(x_coords, y_coords)\n",
    "\n",
    "    for label, x, y in zip(word_labels, x_coords, y_coords):\n",
    "        plt.annotate(label, xy=(x, y), xytext=(0, 0), textcoords='offset points')\n",
    "    plt.xlim(x_coords.min()+0.00005, x_coords.max()+0.00005)\n",
    "    plt.ylim(y_coords.min()+0.00005, y_coords.max()+0.00005)\n",
    "    plt.show()"
   ]
  },
  {
   "cell_type": "code",
   "execution_count": 52,
   "metadata": {},
   "outputs": [
    {
     "name": "stderr",
     "output_type": "stream",
     "text": [
      "c:\\users\\tanse\\documents\\mystuff\\temp\\tempnlp\\nlp\\word2vec\\venv\\lib\\site-packages\\ipykernel_launcher.py:6: DeprecationWarning: Call to deprecated `similar_by_word` (Method will be removed in 4.0.0, use self.wv.similar_by_word() instead).\n",
      "  \n",
      "c:\\users\\tanse\\documents\\mystuff\\temp\\tempnlp\\nlp\\word2vec\\venv\\lib\\site-packages\\ipykernel_launcher.py:8: DeprecationWarning: Call to deprecated `__getitem__` (Method will be removed in 4.0.0, use self.wv.__getitem__() instead).\n",
      "  \n",
      "c:\\users\\tanse\\documents\\mystuff\\temp\\tempnlp\\nlp\\word2vec\\venv\\lib\\site-packages\\ipykernel_launcher.py:10: DeprecationWarning: Call to deprecated `__getitem__` (Method will be removed in 4.0.0, use self.wv.__getitem__() instead).\n",
      "  # Remove the CWD from sys.path while we load stuff.\n"
     ]
    },
    {
     "data": {
      "image/png": "[encoded data removed]",
      "text/plain": [
       "<Figure size 432x288 with 1 Axes>"
      ]
     },
     "metadata": {
      "needs_background": "light"
     },
     "output_type": "display_data"
    }
   ],
   "source": [
    "display_closestwords_tsnescatterplot(model, 'amazing', 200)"
   ]
  },
  {
   "cell_type": "code",
   "execution_count": 56,
   "metadata": {},
   "outputs": [],
   "source": [
    "sentence_list = [sentence for sentence in sentences]"
   ]
  },
  {
   "cell_type": "code",
   "execution_count": 67,
   "metadata": {},
   "outputs": [
    {
     "data": {
      "text/plain": [
       "array([-0.72955   , -0.35294297,  0.06712879,  0.9026236 , -0.20832437,\n",
       "        0.34128296,  0.13773593,  0.3962225 , -0.1563693 , -0.14334692,\n",
       "       -1.4380058 , -0.06420678,  0.80492324, -1.248567  , -0.90257615,\n",
       "        0.44920695,  1.1399527 , -1.0050762 ,  0.4498727 ,  0.18756506,\n",
       "        0.27152374, -0.75510234, -0.9812753 , -0.5505843 , -1.8277273 ,\n",
       "        0.8509979 , -0.23353687, -0.24192145,  0.07758838, -0.8066298 ,\n",
       "        2.003729  , -0.20157161, -0.6131334 , -1.6420491 , -0.06005184,\n",
       "       -0.61372066,  0.36365062,  0.55005366, -0.56064004, -0.48646417,\n",
       "        1.0176075 ,  0.22590588, -0.33261117,  0.84476507, -0.13913544,\n",
       "       -0.7831429 ,  0.9315403 ,  0.70219815,  0.3900852 , -0.5673715 ,\n",
       "        0.04560212, -0.63623226, -0.21747716, -1.0669062 , -1.9031599 ,\n",
       "       -0.55816877,  0.52022004,  0.14511259,  0.79650795, -0.9657973 ,\n",
       "       -0.37824818,  0.09218594,  0.11043585, -0.12123673, -0.71721643,\n",
       "        0.45891923, -0.01099255,  1.9392673 ,  0.5897959 ,  0.8739469 ,\n",
       "        0.7880078 ,  0.9097824 , -1.6029954 , -0.6769091 , -0.6882886 ,\n",
       "       -1.6972954 ,  1.1563997 ,  0.33906907, -1.1656076 ,  1.2655951 ,\n",
       "        0.04719786,  0.54182684, -0.63193446,  0.0490236 ,  0.14702804,\n",
       "        0.9063485 ,  0.62019974, -0.725571  , -1.4464092 , -0.27685812,\n",
       "        0.38107234,  1.6778495 ,  1.6789676 ,  0.11607464, -0.4796394 ,\n",
       "       -1.400064  ,  0.44836813,  0.1831039 ,  0.9598165 ,  0.425461  ,\n",
       "        0.1394085 ,  0.92763305, -0.14832792, -0.272612  ,  0.7320224 ,\n",
       "        0.408575  ,  0.71301323, -0.27329582, -0.5468677 ,  0.43081173,\n",
       "       -0.7463112 ,  0.03182109,  0.65927905, -0.0876411 ,  0.18188857,\n",
       "       -1.115879  ,  0.42716014, -0.4387064 , -0.23815493, -0.69208753,\n",
       "        0.97597224, -0.4025788 ,  0.640715  ,  0.273641  , -0.21897016,\n",
       "        0.3344285 , -0.40776953,  0.9899254 ,  0.4462137 , -0.47652468,\n",
       "       -0.59414274,  0.00334271, -1.0578225 , -0.31933117, -0.3598234 ,\n",
       "       -0.87114346,  0.5268092 ,  0.96736056,  0.75782233, -0.66629684,\n",
       "        0.13763128, -0.37532964,  0.42841688, -0.45935735,  0.47746462,\n",
       "       -1.1350936 , -1.2041408 ,  0.45027107,  1.0475756 ,  0.09598813,\n",
       "       -0.38048086,  0.24216928, -0.08843122, -0.42139912,  0.5274392 ,\n",
       "       -0.08348487, -0.40812558, -0.03903974,  0.4740783 , -0.17245188,\n",
       "       -0.64812833, -0.7996666 ,  0.20811448, -1.1318681 ,  0.31454182,\n",
       "       -0.27137974,  0.24540845,  0.3578206 ,  0.566958  , -0.5461705 ,\n",
       "        0.20008166,  1.9288707 , -0.80307454, -0.5286879 , -0.22127086,\n",
       "        0.25545803,  0.26137462,  0.14311202, -0.5865143 ,  0.07461493,\n",
       "        0.13069731, -0.33471605,  0.6794006 , -0.40357217,  0.7999286 ,\n",
       "       -0.447554  ,  0.73678887, -0.32158482, -0.54343146,  0.67349523,\n",
       "       -0.43984088, -0.6896793 , -0.24409848, -0.84152347, -1.275714  ,\n",
       "        0.22621344,  0.30677348,  0.38213825, -0.03831614,  0.0795239 ],\n",
       "      dtype=float32)"
      ]
     },
     "execution_count": 67,
     "metadata": {},
     "output_type": "execute_result"
    }
   ],
   "source": [
    "model.wv['the']"
   ]
  },
  {
   "cell_type": "code",
   "execution_count": 71,
   "metadata": {},
   "outputs": [
    {
     "name": "stdout",
     "output_type": "stream",
     "text": [
      "Index of \"of\" is: 1\n"
     ]
    }
   ],
   "source": [
    "# find the index of the 2nd most common word (\"of\")\n",
    "print('Index of \"of\" is: {}'.format(model.wv.vocab['of'].index))"
   ]
  },
  {
   "cell_type": "code",
   "execution_count": 72,
   "metadata": {},
   "outputs": [
    {
     "name": "stdout",
     "output_type": "stream",
     "text": [
      "zebra\n"
     ]
    },
    {
     "name": "stderr",
     "output_type": "stream",
     "text": [
      "c:\\users\\tanse\\documents\\mystuff\\temp\\tempnlp\\nlp\\word2vec\\venv\\lib\\site-packages\\gensim\\models\\keyedvectors.py:877: FutureWarning: arrays to stack must be passed as a \"sequence\" type such as list or tuple. Support for non-sequence iterables such as generators is deprecated as of NumPy 1.16 and will raise an error in the future.\n",
      "  vectors = vstack(self.word_vec(word, use_norm=True) for word in used_words).astype(REAL)\n"
     ]
    }
   ],
   "source": [
    "# what doesn't fit?\n",
    "print(model.wv.doesnt_match(\"green blue red zebra\".split()))"
   ]
  },
  {
   "cell_type": "code",
   "execution_count": 85,
   "metadata": {},
   "outputs": [
    {
     "name": "stdout",
     "output_type": "stream",
     "text": [
      "['anarchism', 'originated', 'as', 'a'] [5233, 3080, 11, 5]\n"
     ]
    }
   ],
   "source": [
    "# convert the input data into a list of integer indexes aligning with the wv indexes\n",
    "# Read the data into a list of strings.\n",
    "def read_data(filename):\n",
    "    \"\"\"Extract the first file enclosed in a zip file as a list of words.\"\"\"\n",
    "    with zipfile.ZipFile(filename) as f:\n",
    "        data = f.read(f.namelist()[0]).split()\n",
    "    return data\n",
    "\n",
    "def read_txt(filename):\n",
    "    f = open(filename,'r') \n",
    "    data = f.read()\n",
    "    f.close()\n",
    "    return data.split()\n",
    "\n",
    "def convert_data_to_index(string_data, wv):\n",
    "    index_data = []\n",
    "    for word in string_data:\n",
    "        if word in wv:\n",
    "            index_data.append(wv.vocab[word].index)\n",
    "    return index_data\n",
    "\n",
    "#str_data = read_data(text_dir)\n",
    "str_data = read_txt(text_dir)\n",
    "index_data = convert_data_to_index(str_data, model.wv)\n",
    "print(str_data[:4], index_data[:4])"
   ]
  },
  {
   "cell_type": "code",
   "execution_count": 103,
   "metadata": {},
   "outputs": [],
   "source": [
    "# convert the wv word vectors into a numpy matrix that is suitable for insertion\n",
    "# into our TensorFlow and Keras models\n",
    "vector_dim = len(model.wv[list(model.wv.vocab.keys())[0]])\n",
    "embedding_matrix = np.zeros((len(model.wv.vocab), vector_dim))\n",
    "for i in range(len(model.wv.vocab)):\n",
    "    embedding_vector = model.wv[model.wv.index2word[i]]\n",
    "    if embedding_vector is not None:\n",
    "        embedding_matrix[i] = embedding_vector"
   ]
  },
  {
   "cell_type": "code",
   "execution_count": 107,
   "metadata": {},
   "outputs": [
    {
     "data": {
      "text/plain": [
       "(71290, 200)"
      ]
     },
     "execution_count": 107,
     "metadata": {},
     "output_type": "execute_result"
    }
   ],
   "source": [
    "embedding_matrix.shape"
   ]
  },
  {
   "cell_type": "markdown",
   "metadata": {},
   "source": [
    "## Keras Section"
   ]
  },
  {
   "cell_type": "code",
   "execution_count": null,
   "metadata": {},
   "outputs": [],
   "source": [
    "# TODO\n",
    "# Above we have the embedding matrix. Or alternatively the word vectors for each word.\n",
    "# We can get each comment/sentence in a survey, assume the comment length < 1000.\n",
    "# Convert it into a list (complete it with empty strings to length max 1000)\n",
    "# replace each word in that list with its embedded vector representation\n",
    "# Each comment will then be a 1000 X 200 matrix\n",
    "# Flatten this out to a 200000 numpy vector\n",
    "# Feed this into a neural network along with the labels"
   ]
  }
 ],
 "metadata": {
  "kernelspec": {
   "display_name": "venv_word2vec",
   "language": "python",
   "name": "venv_word2vec"
  },
  "language_info": {
   "codemirror_mode": {
    "name": "ipython",
    "version": 3
   },
   "file_extension": ".py",
   "mimetype": "text/x-python",
   "name": "python",
   "nbconvert_exporter": "python",
   "pygments_lexer": "ipython3",
   "version": "3.7.3"
  }
 },
 "nbformat": 4,
 "nbformat_minor": 4
}
